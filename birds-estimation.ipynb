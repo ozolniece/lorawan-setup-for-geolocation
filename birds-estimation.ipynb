{
 "cells": [
  {
   "cell_type": "code",
   "execution_count": 1,
   "id": "60cc8fa3",
   "metadata": {},
   "outputs": [],
   "source": [
    "import pandas as pd\n",
    "import numpy as np\n",
    "import math\n",
    "df = pd.read_csv('estimation-pamatdati.csv')"
   ]
  },
  {
   "cell_type": "code",
   "execution_count": 2,
   "id": "f56efcff",
   "metadata": {},
   "outputs": [],
   "source": [
    "def aprekins(A, n):\n",
    "    k=[]\n",
    "    for ind in df.index:\n",
    "        k.append(pow(df['d0'][ind]-pow(10,(A-df['RSSI'][ind])/(10*n)),2))\n",
    "    return(sum(k))\n",
    "    "
   ]
  },
  {
   "cell_type": "code",
   "execution_count": 3,
   "id": "70c7eb77",
   "metadata": {},
   "outputs": [],
   "source": [
    "A=np.arange(10,200,1)\n",
    "n=np.arange(1,10,0.1)"
   ]
  },
  {
   "cell_type": "code",
   "execution_count": 4,
   "id": "0126bcdf",
   "metadata": {},
   "outputs": [],
   "source": [
    "e=0\n",
    "rez= [ [0]*len(n) for i in range(len(A))]\n",
    "for x in A:\n",
    "    d=0\n",
    "    for y in n:\n",
    "        rez[e][d]=aprekins(x, y)\n",
    "        d=d+1\n",
    "    e=e+1    \n"
   ]
  },
  {
   "cell_type": "code",
   "execution_count": 5,
   "id": "6a5d1436",
   "metadata": {},
   "outputs": [
    {
     "name": "stdout",
     "output_type": "stream",
     "text": [
      "[12] [4.]\n"
     ]
    }
   ],
   "source": [
    "r=np.where(rez == np.min(rez))\n",
    "print(A[r[0]], n[r[1]])"
   ]
  },
  {
   "cell_type": "code",
   "execution_count": 6,
   "id": "01e56f13",
   "metadata": {},
   "outputs": [],
   "source": [
    "sd = math.sqrt(rez[2][29]/len(df))"
   ]
  },
  {
   "cell_type": "code",
   "execution_count": 7,
   "id": "c4cc4388",
   "metadata": {},
   "outputs": [
    {
     "data": {
      "text/plain": [
       "878.7953843714477"
      ]
     },
     "execution_count": 7,
     "metadata": {},
     "output_type": "execute_result"
    }
   ],
   "source": [
    "sd"
   ]
  }
 ],
 "metadata": {
  "kernelspec": {
   "display_name": "Python 3 (ipykernel)",
   "language": "python",
   "name": "python3"
  },
  "language_info": {
   "codemirror_mode": {
    "name": "ipython",
    "version": 3
   },
   "file_extension": ".py",
   "mimetype": "text/x-python",
   "name": "python",
   "nbconvert_exporter": "python",
   "pygments_lexer": "ipython3",
   "version": "3.9.7"
  }
 },
 "nbformat": 4,
 "nbformat_minor": 5
}
